{
 "cells": [
  {
   "cell_type": "markdown",
   "metadata": {
    "id": "JvCJBaNt91a8"
   },
   "source": [
    "# 4. Control flow (Loops and Functions)"
   ]
  },
  {
   "cell_type": "markdown",
   "metadata": {
    "id": "SlkqUlle91a8"
   },
   "source": [
    "Control flow is the set of techniques that allows us to manage the way code is executed.\n",
    "For example, you might want to execute some code provided a certain condition is `True`.\n",
    "Or you might want to repeat a certain action a given number of times.\n",
    "Or, again, you might want to run code as long as a condition is `True`, but you do not know how many times the code should be executed before the condition turns `True`.\n",
    "\n",
    "The three examples are managed by the statements [`if`](https://docs.python.org/3/reference/compound_stmts.html#the-if-statement), [`for`](https://docs.python.org/3/reference/compound_stmts.html#the-for-statement) and [`while`](https://docs.python.org/3/reference/compound_stmts.html#the-while-statement).\n",
    "Here we see basic applications, just to convey the idea.\n",
    "We should keep in mind two things when working with control flow statements:\n",
    "- The control flow statement has to be on a line that end with a semicolon (`:`).\n",
    "- The code block following the control flow statements has to be indented with four whitespaces.\n",
    "\n",
    "The `if` and `while` statements work provided that a certain condition holds.\n",
    "Such condition is a boolean value that is either `True` or `False`.\n",
    "Python supports boolean arithmetics with the keywords `and`, `or` and `not`.\n",
    "\n",
    "The `if` statement can be expanded to the `if`-`elif`-`else`."
   ]
  },
  {
   "cell_type": "markdown",
   "metadata": {
    "id": "heROdZiSZxpy"
   },
   "source": [
    "## Loops"
   ]
  },
  {
   "cell_type": "markdown",
   "metadata": {
    "id": "PrIvwPEFZ6k0"
   },
   "source": [
    "When working with collections (`lists`, `sets`, `dictionaries`, etc.) it is possible\n",
    "to operate on every item using a loop.\n",
    "\n",
    "Defining a loop requires an iterable (in our example it is `sample_list`), which \n",
    "could be `list`, `tuple`, `set` or any other object that supports iteration. By\n",
    "specifying `item` we are asking python to iterate over one element of the list \n",
    "at a time, storing this element in a variable called `item`. \n",
    "\n",
    "Operations that should be perfomed within the loop must be idented (typically with\n",
    "four leading spaces, but some use tabs, two spaces, or some other identation). Also\n",
    "note the colon `:` at the end of the `for` statement.\n",
    "\n",
    "<img src = \"https://github.com/saeed-saffari/UT-workshop-sum2021/blob/main/Lecture/PIC/Loops-in-Python.png?raw=true\" width = 700>"
   ]
  },
  {
   "cell_type": "markdown",
   "metadata": {
    "id": "2MliZn_kcGmD"
   },
   "source": [
    "### **4.1 for**"
   ]
  },
  {
   "cell_type": "markdown",
   "metadata": {
    "id": "K_Xb0E12cE7W"
   },
   "source": [
    "The simplest loop is `for` loop, with the following syntax:\n",
    "\n",
    "```python\n",
    "sample_list = [1, 4, 7, 10]\n",
    "for item in sample_list:\n",
    "    print(item)\n",
    "```"
   ]
  },
  {
   "cell_type": "code",
   "execution_count": 2,
   "metadata": {},
   "outputs": [],
   "source": [
    "sample_list = [1, 4, 7, 10]"
   ]
  },
  {
   "cell_type": "code",
   "execution_count": null,
   "metadata": {},
   "outputs": [],
   "source": [
    "for ... in ...:\n",
    "    ...\n",
    "    ...\n",
    "    ...\n",
    "    ..."
   ]
  },
  {
   "cell_type": "code",
   "execution_count": 4,
   "metadata": {},
   "outputs": [
    {
     "name": "stdout",
     "output_type": "stream",
     "text": [
      "1\n",
      "4\n",
      "7\n",
      "10\n"
     ]
    }
   ],
   "source": [
    "for item in sample_list:\n",
    "    print(item)"
   ]
  },
  {
   "cell_type": "code",
   "execution_count": 14,
   "metadata": {},
   "outputs": [
    {
     "name": "stdout",
     "output_type": "stream",
     "text": [
      "Hi\n",
      "Mohammad\n",
      "Hi\n",
      "Mahshid\n",
      "Hi\n",
      "Ali\n",
      "Hi\n",
      "Mahsa\n",
      "Hi\n",
      "Javad\n",
      "Bye\n"
     ]
    }
   ],
   "source": [
    "invite_list = ['Mohammad', 'Mahshid', 'Ali', 'Mahsa', 'Javad']\n",
    "\n",
    "for name in invite_list:\n",
    "    print('Hi')\n",
    "    print(name)\n",
    "    \n",
    "print('Bye')"
   ]
  },
  {
   "cell_type": "code",
   "execution_count": 22,
   "metadata": {},
   "outputs": [
    {
     "name": "stdout",
     "output_type": "stream",
     "text": [
      "[1, 4, 9, 16, 25, 36, 49, 64, 81, 100, 121, 144, 169, 196, 225, 256, 289, 324, 361, 400, 441, 484, 529, 576]\n",
      "[1, 2, 3, 4, 5, 6, 7, 8, 9, 10, 11, 12, 13, 14, 15, 16, 17, 18, 19, 20, 21, 22, 23, 24]\n"
     ]
    }
   ],
   "source": [
    "squares = []\n",
    "\n",
    "for i in range(1,25):\n",
    "    #print(i)\n",
    "    square = i ** 2\n",
    "    #print(square)\n",
    "    squares.append(square)\n",
    "    \n",
    "print(squares)\n",
    "print(list(range(1,25)))"
   ]
  },
  {
   "cell_type": "code",
   "execution_count": null,
   "metadata": {},
   "outputs": [],
   "source": []
  },
  {
   "cell_type": "markdown",
   "metadata": {
    "id": "eY1WxUwQb9-7"
   },
   "source": [
    "### **4.2 while**"
   ]
  },
  {
   "cell_type": "markdown",
   "metadata": {
    "id": "D7Z3SHUfcOMQ"
   },
   "source": [
    "Python `While` Loop is used to execute a block of statements repeatedly until a given condition is satisfied. And when the condition becomes false, the line immediately after the loop in the program is executed. While loop falls under the category of indefinite iteration. Indefinite iteration means that the number of times the loop is executed isn’t specified explicitly in advance. "
   ]
  },
  {
   "cell_type": "markdown",
   "metadata": {
    "id": "2dzoYN_YdGRQ"
   },
   "source": [
    "<img src = \"https://github.com/saeed-saffari/UT-workshop-sum2021/blob/main/Lecture/PIC/Looping.jpg?raw=true\">"
   ]
  },
  {
   "cell_type": "code",
   "execution_count": 30,
   "metadata": {},
   "outputs": [
    {
     "name": "stdout",
     "output_type": "stream",
     "text": [
      "0\n",
      "1\n",
      "2\n",
      "3\n",
      "4\n",
      "5\n",
      "6\n",
      "7\n",
      "8\n",
      "9\n"
     ]
    }
   ],
   "source": [
    "n = 0\n",
    "while n < 10:\n",
    "    print(n)\n",
    "    n = n + 1"
   ]
  },
  {
   "cell_type": "code",
   "execution_count": 32,
   "metadata": {},
   "outputs": [
    {
     "name": "stdout",
     "output_type": "stream",
     "text": [
      "1\n",
      "0.2\n",
      "0.04\n",
      "0.008\n",
      "0.0016\n",
      "0.00032\n"
     ]
    }
   ],
   "source": [
    "x = 1\n",
    "while x > 1e-4: #10 ** (-4):\n",
    "    print(x)\n",
    "    x = x / 5"
   ]
  },
  {
   "cell_type": "code",
   "execution_count": null,
   "metadata": {},
   "outputs": [],
   "source": []
  },
  {
   "cell_type": "markdown",
   "metadata": {
    "id": "GDfhCMsfc-4n"
   },
   "source": [
    "### **4.3 Conditions** (**if**, **elif**, **else**)"
   ]
  },
  {
   "cell_type": "markdown",
   "metadata": {
    "id": "1nJz_At2diim"
   },
   "source": [
    "<img src = \"https://github.com/saeed-saffari/UT-workshop-sum2021/blob/main/Lecture/PIC/if-else.jpg?raw=true\" width = \"800\"> \n",
    "\n",
    "If execution of command should depend on some condition, then we can use `if/else` syntax:\n",
    "\n",
    "```python\n",
    "if some_condition:\n",
    "    # run code here\n",
    "elif some_other_condition:\n",
    "    # run code here\n",
    "else:\n",
    "    # run code here\n",
    "```\n"
   ]
  },
  {
   "cell_type": "code",
   "execution_count": 36,
   "metadata": {},
   "outputs": [
    {
     "data": {
      "text/plain": [
       "False"
      ]
     },
     "execution_count": 36,
     "metadata": {},
     "output_type": "execute_result"
    }
   ],
   "source": [
    "3 < 2"
   ]
  },
  {
   "cell_type": "code",
   "execution_count": 37,
   "metadata": {},
   "outputs": [],
   "source": [
    "if 3 < 2:\n",
    "    print('Hello')"
   ]
  },
  {
   "cell_type": "code",
   "execution_count": 39,
   "metadata": {},
   "outputs": [
    {
     "name": "stdout",
     "output_type": "stream",
     "text": [
      "Enter your age: 12\n",
      "You can't vote yet!!\n"
     ]
    }
   ],
   "source": [
    "age = int(input('Enter your age: '))\n",
    "\n",
    "if age >= 18:\n",
    "    print('You are old enough to vote!')\n",
    "else:\n",
    "    print(\"You can't vote yet!!\")"
   ]
  },
  {
   "cell_type": "code",
   "execution_count": 42,
   "metadata": {},
   "outputs": [
    {
     "name": "stdout",
     "output_type": "stream",
     "text": [
      "Enter your age: 17\n",
      "You can't vote yet!!\n",
      "You can will vote after 1 years.\n"
     ]
    }
   ],
   "source": [
    "age = int(input('Enter your age: '))\n",
    "\n",
    "if age >= 18:\n",
    "    print('You are old enough to vote!')\n",
    "else:\n",
    "    print(\"You can't vote yet!!\")\n",
    "    print('You can will vote after {} years.'.format(18 - age))"
   ]
  },
  {
   "cell_type": "code",
   "execution_count": 5,
   "metadata": {},
   "outputs": [
    {
     "name": "stdout",
     "output_type": "stream",
     "text": [
      "Enter your age: 26\n",
      "Your cost is $10.\n"
     ]
    }
   ],
   "source": [
    "age = int(input('Enter your age: '))\n",
    "\n",
    "if age < 4:\n",
    "    price = 0\n",
    "elif age < 16:\n",
    "    price = 5\n",
    "else:\n",
    "#elif age >= 16:\n",
    "    price = 10\n",
    "    \n",
    "print('Your cost is ${}.'.format(price))"
   ]
  },
  {
   "cell_type": "markdown",
   "metadata": {
    "id": "_dtIDs7chbJC"
   },
   "source": [
    "#### The break Statement"
   ]
  },
  {
   "cell_type": "markdown",
   "metadata": {
    "id": "Yp499aiIhk9N"
   },
   "source": [
    "<img src = \"https://github.com/saeed-saffari/UT-workshop-sum2021/blob/main/Lecture/PIC/whlie%20expr.png?raw=true\" width = \"400\">\n",
    "\n",
    "With the `break` statement we can stop the loop even if the while condition is true:\n",
    "```python\n",
    "i = 1\n",
    "while i < 6:\n",
    "  print(i)\n",
    "  if i == 3:\n",
    "    break\n",
    "  i += 1\n",
    "```\n"
   ]
  },
  {
   "cell_type": "code",
   "execution_count": 9,
   "metadata": {},
   "outputs": [
    {
     "name": "stdout",
     "output_type": "stream",
     "text": [
      "1\n",
      "2\n",
      "3\n"
     ]
    }
   ],
   "source": [
    "i = 1\n",
    "while i < 6:\n",
    "    print(i)\n",
    "    if i == 3:\n",
    "        break\n",
    "    i = i + 1"
   ]
  },
  {
   "cell_type": "markdown",
   "metadata": {
    "id": "W4LYHBb1iMst"
   },
   "source": [
    "#### The continue Statement"
   ]
  },
  {
   "cell_type": "markdown",
   "metadata": {
    "id": "M6Sh-xLyiMYy"
   },
   "source": [
    "With the `continue` statement we can stop the current iteration, and continue with the next:\n",
    "\n",
    "```python\n",
    "i = 0\n",
    "while i < 6:\n",
    "  i += 1 \n",
    "  if i == 3:\n",
    "    continue\n",
    "  print(i)\n",
    "```"
   ]
  },
  {
   "cell_type": "code",
   "execution_count": 12,
   "metadata": {},
   "outputs": [
    {
     "name": "stdout",
     "output_type": "stream",
     "text": [
      "1\n",
      "2\n",
      "4\n",
      "5\n",
      "6\n"
     ]
    }
   ],
   "source": [
    "i = 0\n",
    "while i < 6:\n",
    "    i = i + 1 \n",
    "    if i == 3:\n",
    "        continue\n",
    "    print(i)"
   ]
  },
  {
   "cell_type": "markdown",
   "metadata": {
    "id": "CQP67TmJ91bA"
   },
   "source": [
    "## Functions (`def` and `lambda`)"
   ]
  },
  {
   "cell_type": "markdown",
   "metadata": {
    "id": "om_0tZtU91bA"
   },
   "source": [
    "<img src = \"https://github.com/saeed-saffari/UT-workshop-sum2021/blob/main/Lecture/PIC/python-functions.gif?raw=true\" width = \"800\" >\n",
    "\n",
    "You might have noticed so far that Python is rather limited as a programming language.\n",
    "This is because Python is a general-purpose language: it should be flexible enough for everybody to achieve their goals, but it cannot afford to be a BIG library of code.\n",
    "\n",
    "For example, Python does not know what a square root of a number is.\n",
    "While we can always rely on the fact that $\\sqrt[n]{x} = x^{1/n}$, it might be useful to define a dedicated function that does the job.\n",
    "In this example, defining a function improves code readability.\n",
    "\n",
    "We can define a new function by using the `def` keyword, listing arguments in round parentheses.\n",
    "Also, if we want the function to give back something, we should explicitly instruct Python to do so with the `return` keyword."
   ]
  },
  {
   "cell_type": "code",
   "execution_count": 13,
   "metadata": {},
   "outputs": [],
   "source": [
    "def sample():\n",
    "    ...\n",
    "    ...\n",
    "    ...\n",
    "    print(...)\n",
    "    return ..."
   ]
  },
  {
   "cell_type": "code",
   "execution_count": 15,
   "metadata": {},
   "outputs": [],
   "source": [
    "def sample2(x, y , z):\n",
    "    ...\n",
    "    ...\n",
    "    ...\n",
    "    return ... # print(...)"
   ]
  },
  {
   "cell_type": "code",
   "execution_count": null,
   "metadata": {},
   "outputs": [],
   "source": [
    "sample()\n",
    "\n",
    "sample2(2,3,6)"
   ]
  },
  {
   "cell_type": "markdown",
   "metadata": {
    "id": "avqODMzZ91bA"
   },
   "source": [
    "Here we defined the square-root function.\n",
    "As it is, this function works for all values of $x$, even negative ones (the result will be a complex number).\n",
    "\n",
    "Again, note that the `def` statement ends with a semicolon (`:`) and any code that belongs to the function is indented with respect to the line containing the keyword `def`."
   ]
  },
  {
   "cell_type": "code",
   "execution_count": 16,
   "metadata": {},
   "outputs": [],
   "source": [
    "def sqrt(x):\n",
    "    return x ** (1/2)"
   ]
  },
  {
   "cell_type": "markdown",
   "metadata": {
    "id": "2hL3maq891bB"
   },
   "source": [
    "An example of a slightly more sophisticated function is one that computes the real roots a (non-negative) number."
   ]
  },
  {
   "cell_type": "code",
   "execution_count": 22,
   "metadata": {},
   "outputs": [
    {
     "data": {
      "text/plain": [
       "1.4142135623730951"
      ]
     },
     "execution_count": 22,
     "metadata": {},
     "output_type": "execute_result"
    }
   ],
   "source": [
    "sqrt(2)"
   ]
  },
  {
   "cell_type": "markdown",
   "metadata": {
    "id": "qf4vLCSI91bB"
   },
   "source": [
    "This function performs the so-called _input validation_.\n",
    "To ensure that the result of $\\sqrt[n]{x}$ is a real number, we must ensure that $x$ is non-negative.\n",
    "We do this with an `if` clause and instructing Python to terminate the execution of the function with a `raise` command, which issues an error.\n",
    "Also, the function we defined takes two arguments: `x` and `n`.\n",
    "By specifying `n=2` in the `def` statement, we are saying that the default value of $n$ should be two, but the user can change that value arbitrarily."
   ]
  },
  {
   "cell_type": "code",
   "execution_count": 28,
   "metadata": {},
   "outputs": [],
   "source": [
    "def real_nth_root(x, n=2):\n",
    "    if x < 0:\n",
    "        print('Invalid number!')\n",
    "    else:\n",
    "        print(x ** (1/n))"
   ]
  },
  {
   "cell_type": "code",
   "execution_count": 34,
   "metadata": {},
   "outputs": [
    {
     "name": "stdout",
     "output_type": "stream",
     "text": [
      "6.0\n"
     ]
    }
   ],
   "source": [
    "real_nth_root(36)"
   ]
  },
  {
   "cell_type": "code",
   "execution_count": 32,
   "metadata": {},
   "outputs": [
    {
     "name": "stdout",
     "output_type": "stream",
     "text": [
      "Invalid number!\n"
     ]
    }
   ],
   "source": [
    "real_nth_root(-4)"
   ]
  },
  {
   "cell_type": "code",
   "execution_count": 33,
   "metadata": {},
   "outputs": [
    {
     "name": "stdout",
     "output_type": "stream",
     "text": [
      "2.0\n"
     ]
    }
   ],
   "source": [
    "real_nth_root(8,3)"
   ]
  },
  {
   "cell_type": "code",
   "execution_count": 37,
   "metadata": {},
   "outputs": [],
   "source": [
    "def price():\n",
    "    age = int(input('Enter your age: '))\n",
    "\n",
    "    if age < 4:\n",
    "        price = 0\n",
    "    elif age < 16:\n",
    "        price = 5\n",
    "    else:\n",
    "        price = 10\n",
    "        \n",
    "    print('Your cost is ${}.'.format(price))"
   ]
  },
  {
   "cell_type": "code",
   "execution_count": 38,
   "metadata": {},
   "outputs": [
    {
     "name": "stdout",
     "output_type": "stream",
     "text": [
      "Enter your age: 12\n",
      "Your cost is $5.\n"
     ]
    }
   ],
   "source": [
    "price()"
   ]
  },
  {
   "cell_type": "markdown",
   "metadata": {
    "id": "_LJt13-T91bC"
   },
   "source": [
    "Finally, a quick-and-dirty way to define functions is by using `lambda` functions, which are also known as [anonymous functions](https://en.wikipedia.org/wiki/Anonymous_function).\n",
    "The inner workings of anonymous functions are quite complicated and we will not cover them.\n",
    "Here it should suffice to know that these functions are defined _in-line_, which means that we do not write a code block for them.\n",
    "Anonymous functions are useful for quick one-liners that do not require much work.\n",
    "\n",
    "We can re-define the function `sqrt` above as an anonymous function. <br>\n",
    "\n",
    "The syntax is as follows.\n",
    "The function `root2` takes an argument `x`, which is indicated right after the keyword `lambda`.\n",
    "There is a semicolon following the statment, after which we find the main task performed by the function we defined."
   ]
  },
  {
   "cell_type": "code",
   "execution_count": 39,
   "metadata": {},
   "outputs": [],
   "source": [
    "root2 = lambda x : x ** (1/2)"
   ]
  },
  {
   "cell_type": "code",
   "execution_count": 40,
   "metadata": {},
   "outputs": [
    {
     "data": {
      "text/plain": [
       "1.4142135623730951"
      ]
     },
     "execution_count": 40,
     "metadata": {},
     "output_type": "execute_result"
    }
   ],
   "source": [
    "root2(2)"
   ]
  },
  {
   "cell_type": "code",
   "execution_count": null,
   "metadata": {},
   "outputs": [],
   "source": []
  }
 ],
 "metadata": {
  "colab": {
   "collapsed_sections": [
    "_dtIDs7chbJC"
   ],
   "name": "Loops python.ipynb",
   "provenance": []
  },
  "kernelspec": {
   "display_name": "Python 3",
   "language": "python",
   "name": "python3"
  },
  "language_info": {
   "codemirror_mode": {
    "name": "ipython",
    "version": 3
   },
   "file_extension": ".py",
   "mimetype": "text/x-python",
   "name": "python",
   "nbconvert_exporter": "python",
   "pygments_lexer": "ipython3",
   "version": "3.8.8"
  }
 },
 "nbformat": 4,
 "nbformat_minor": 1
}
